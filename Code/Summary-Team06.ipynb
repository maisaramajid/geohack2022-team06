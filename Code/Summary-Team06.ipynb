{
 "cells": [
  {
   "cell_type": "markdown",
   "id": "7773fad2-5ee8-420e-a604-8ba3b64551d1",
   "metadata": {},
   "source": [
    "## Import"
   ]
  },
  {
   "cell_type": "code",
   "execution_count": 109,
   "id": "e48d97d3-2709-48e4-a1d8-ed2b465348de",
   "metadata": {},
   "outputs": [],
   "source": [
    "import numpy as np \n",
    "import pandas as pd \n",
    "import matplotlib.pyplot as plt\n",
    "#import seaborn as sns \n",
    "#import gc\n",
    "%matplotlib inline\n",
    "#import warnings\n",
    "#warnings.filterwarnings('ignore')\n",
    "from sklearn.preprocessing import StandardScaler, MinMaxScaler, RobustScaler\n",
    "from sklearn.model_selection import train_test_split\n",
    "import sklearn\n",
    "\n",
    "import os\n",
    "import warnings\n",
    "warnings.filterwarnings('ignore')\n",
    "\n",
    "import pickle\n",
    "from scipy.stats import spearmanr\n",
    "from scipy.cluster import hierarchy\n",
    "\n",
    "import time\n",
    "import operator\n",
    "import missingno\n",
    "from collections import defaultdict\n",
    "\n",
    "from sklearn.model_selection import train_test_split\n",
    "from sklearn.preprocessing import StandardScaler\n",
    "from sklearn.utils import shuffle\n",
    "from sklearn.preprocessing import LabelEncoder, OrdinalEncoder\n",
    "from sklearn.ensemble import RandomForestClassifier\n",
    "from sklearn.model_selection import GridSearchCV\n",
    "from sklearn.preprocessing import power_transform\n",
    "from sklearn.inspection import permutation_importance\n",
    "from sklearn.metrics import fbeta_score, make_scorer\n",
    "from sklearn.experimental import enable_iterative_imputer  \n",
    "from sklearn.impute import IterativeImputer\n",
    "from sklearn.linear_model import BayesianRidge\n",
    "from sklearn.linear_model import RidgeClassifier\n",
    "from sklearn.metrics import accuracy_score\n",
    "from sklearn.metrics import mean_absolute_error\n",
    "from sklearn.pipeline import make_pipeline\n",
    "from sklearn.linear_model import LogisticRegression\n",
    "from sklearn.model_selection import train_test_split\n",
    "from sklearn.ensemble import RandomForestRegressor\n",
    "from sklearn.metrics import mean_absolute_error\n",
    "from sklearn.model_selection import cross_val_score\n",
    "from sklearn.metrics import confusion_matrix\n",
    "\n",
    "%matplotlib inline\n",
    "import matplotlib.pyplot as plt\n",
    "import matplotlib.colors as colors\n",
    "from mpl_toolkits.axes_grid1 import make_axes_locatable\n",
    "\n",
    "from pandas import set_option"
   ]
  },
  {
   "cell_type": "code",
   "execution_count": 36,
   "id": "daff053a-7219-40f2-8813-af63ae1f7b5e",
   "metadata": {},
   "outputs": [
    {
     "data": {
      "text/html": [
       "<div>\n",
       "<style scoped>\n",
       "    .dataframe tbody tr th:only-of-type {\n",
       "        vertical-align: middle;\n",
       "    }\n",
       "\n",
       "    .dataframe tbody tr th {\n",
       "        vertical-align: top;\n",
       "    }\n",
       "\n",
       "    .dataframe thead th {\n",
       "        text-align: right;\n",
       "    }\n",
       "</style>\n",
       "<table border=\"1\" class=\"dataframe\">\n",
       "  <thead>\n",
       "    <tr style=\"text-align: right;\">\n",
       "      <th></th>\n",
       "      <th>WELL</th>\n",
       "      <th>DEPTH_MD</th>\n",
       "      <th>X_LOC</th>\n",
       "      <th>Y_LOC</th>\n",
       "      <th>Z_LOC</th>\n",
       "      <th>GROUP</th>\n",
       "      <th>FORMATION</th>\n",
       "      <th>CALI</th>\n",
       "      <th>RSHA</th>\n",
       "      <th>RHOB</th>\n",
       "      <th>GR</th>\n",
       "      <th>NPHI</th>\n",
       "      <th>DTC</th>\n",
       "      <th>SP</th>\n",
       "      <th>BS</th>\n",
       "      <th>ROP</th>\n",
       "      <th>DCAL</th>\n",
       "      <th>DRHO</th>\n",
       "      <th>FORCE_2020_LITHOFACIES_LITHOLOGY</th>\n",
       "      <th>FORCE_2020_LITHOFACIES_CONFIDENCE</th>\n",
       "    </tr>\n",
       "  </thead>\n",
       "  <tbody>\n",
       "    <tr>\n",
       "      <th>0</th>\n",
       "      <td>15/9-13</td>\n",
       "      <td>494.528</td>\n",
       "      <td>437641.96875</td>\n",
       "      <td>6470972.5</td>\n",
       "      <td>-469.501831</td>\n",
       "      <td>NORDLAND GP.</td>\n",
       "      <td>NaN</td>\n",
       "      <td>19.480835</td>\n",
       "      <td>NaN</td>\n",
       "      <td>1.884186</td>\n",
       "      <td>80.200851</td>\n",
       "      <td>NaN</td>\n",
       "      <td>161.131180</td>\n",
       "      <td>24.612379</td>\n",
       "      <td>NaN</td>\n",
       "      <td>34.636410</td>\n",
       "      <td>NaN</td>\n",
       "      <td>-0.574928</td>\n",
       "      <td>65000</td>\n",
       "      <td>1.0</td>\n",
       "    </tr>\n",
       "    <tr>\n",
       "      <th>1</th>\n",
       "      <td>15/9-13</td>\n",
       "      <td>494.680</td>\n",
       "      <td>437641.96875</td>\n",
       "      <td>6470972.5</td>\n",
       "      <td>-469.653809</td>\n",
       "      <td>NORDLAND GP.</td>\n",
       "      <td>NaN</td>\n",
       "      <td>19.468800</td>\n",
       "      <td>NaN</td>\n",
       "      <td>1.889794</td>\n",
       "      <td>79.262886</td>\n",
       "      <td>NaN</td>\n",
       "      <td>160.603470</td>\n",
       "      <td>23.895531</td>\n",
       "      <td>NaN</td>\n",
       "      <td>34.636410</td>\n",
       "      <td>NaN</td>\n",
       "      <td>-0.570188</td>\n",
       "      <td>65000</td>\n",
       "      <td>1.0</td>\n",
       "    </tr>\n",
       "    <tr>\n",
       "      <th>2</th>\n",
       "      <td>15/9-13</td>\n",
       "      <td>494.832</td>\n",
       "      <td>437641.96875</td>\n",
       "      <td>6470972.5</td>\n",
       "      <td>-469.805786</td>\n",
       "      <td>NORDLAND GP.</td>\n",
       "      <td>NaN</td>\n",
       "      <td>19.468800</td>\n",
       "      <td>NaN</td>\n",
       "      <td>1.896523</td>\n",
       "      <td>74.821999</td>\n",
       "      <td>NaN</td>\n",
       "      <td>160.173615</td>\n",
       "      <td>23.916357</td>\n",
       "      <td>NaN</td>\n",
       "      <td>34.779556</td>\n",
       "      <td>NaN</td>\n",
       "      <td>-0.574245</td>\n",
       "      <td>65000</td>\n",
       "      <td>1.0</td>\n",
       "    </tr>\n",
       "    <tr>\n",
       "      <th>3</th>\n",
       "      <td>15/9-13</td>\n",
       "      <td>494.984</td>\n",
       "      <td>437641.96875</td>\n",
       "      <td>6470972.5</td>\n",
       "      <td>-469.957794</td>\n",
       "      <td>NORDLAND GP.</td>\n",
       "      <td>NaN</td>\n",
       "      <td>19.459282</td>\n",
       "      <td>NaN</td>\n",
       "      <td>1.891913</td>\n",
       "      <td>72.878922</td>\n",
       "      <td>NaN</td>\n",
       "      <td>160.149429</td>\n",
       "      <td>23.793688</td>\n",
       "      <td>NaN</td>\n",
       "      <td>39.965164</td>\n",
       "      <td>NaN</td>\n",
       "      <td>-0.586315</td>\n",
       "      <td>65000</td>\n",
       "      <td>1.0</td>\n",
       "    </tr>\n",
       "    <tr>\n",
       "      <th>4</th>\n",
       "      <td>15/9-13</td>\n",
       "      <td>495.136</td>\n",
       "      <td>437641.96875</td>\n",
       "      <td>6470972.5</td>\n",
       "      <td>-470.109772</td>\n",
       "      <td>NORDLAND GP.</td>\n",
       "      <td>NaN</td>\n",
       "      <td>19.453100</td>\n",
       "      <td>NaN</td>\n",
       "      <td>1.880034</td>\n",
       "      <td>71.729141</td>\n",
       "      <td>NaN</td>\n",
       "      <td>160.128342</td>\n",
       "      <td>24.104078</td>\n",
       "      <td>NaN</td>\n",
       "      <td>57.483765</td>\n",
       "      <td>NaN</td>\n",
       "      <td>-0.597914</td>\n",
       "      <td>65000</td>\n",
       "      <td>1.0</td>\n",
       "    </tr>\n",
       "  </tbody>\n",
       "</table>\n",
       "</div>"
      ],
      "text/plain": [
       "      WELL  DEPTH_MD         X_LOC      Y_LOC       Z_LOC         GROUP  \\\n",
       "0  15/9-13   494.528  437641.96875  6470972.5 -469.501831  NORDLAND GP.   \n",
       "1  15/9-13   494.680  437641.96875  6470972.5 -469.653809  NORDLAND GP.   \n",
       "2  15/9-13   494.832  437641.96875  6470972.5 -469.805786  NORDLAND GP.   \n",
       "3  15/9-13   494.984  437641.96875  6470972.5 -469.957794  NORDLAND GP.   \n",
       "4  15/9-13   495.136  437641.96875  6470972.5 -470.109772  NORDLAND GP.   \n",
       "\n",
       "  FORMATION       CALI  RSHA      RHOB         GR  NPHI         DTC  \\\n",
       "0       NaN  19.480835   NaN  1.884186  80.200851   NaN  161.131180   \n",
       "1       NaN  19.468800   NaN  1.889794  79.262886   NaN  160.603470   \n",
       "2       NaN  19.468800   NaN  1.896523  74.821999   NaN  160.173615   \n",
       "3       NaN  19.459282   NaN  1.891913  72.878922   NaN  160.149429   \n",
       "4       NaN  19.453100   NaN  1.880034  71.729141   NaN  160.128342   \n",
       "\n",
       "          SP  BS        ROP  DCAL      DRHO  FORCE_2020_LITHOFACIES_LITHOLOGY  \\\n",
       "0  24.612379 NaN  34.636410   NaN -0.574928                             65000   \n",
       "1  23.895531 NaN  34.636410   NaN -0.570188                             65000   \n",
       "2  23.916357 NaN  34.779556   NaN -0.574245                             65000   \n",
       "3  23.793688 NaN  39.965164   NaN -0.586315                             65000   \n",
       "4  24.104078 NaN  57.483765   NaN -0.597914                             65000   \n",
       "\n",
       "   FORCE_2020_LITHOFACIES_CONFIDENCE  \n",
       "0                                1.0  \n",
       "1                                1.0  \n",
       "2                                1.0  \n",
       "3                                1.0  \n",
       "4                                1.0  "
      ]
     },
     "execution_count": 36,
     "metadata": {},
     "output_type": "execute_result"
    }
   ],
   "source": [
    "import pandas as pd  \n",
    "data = pd.read_csv(r'traindata.csv', sep=',')\n",
    "pd.options.display.max_columns = None\n",
    "data.head()"
   ]
  },
  {
   "cell_type": "code",
   "execution_count": 37,
   "id": "098df045-7464-4b51-b118-47ad0d3679c0",
   "metadata": {},
   "outputs": [],
   "source": [
    "data= data.drop(columns=['WELL','X_LOC','Y_LOC','Z_LOC','GROUP','CALI','DTC','SP','BS','ROP','DCAL','DRHO','FORCE_2020_LITHOFACIES_LITHOLOGY', 'FORCE_2020_LITHOFACIES_CONFIDENCE','RSHA'])"
   ]
  },
  {
   "cell_type": "code",
   "execution_count": 38,
   "id": "0d6cb3f1-4f11-46ff-aefc-e4de0ad8ee4d",
   "metadata": {},
   "outputs": [
    {
     "data": {
      "text/plain": [
       "['DEPTH_MD', 'FORMATION', 'RHOB', 'GR', 'NPHI']"
      ]
     },
     "execution_count": 38,
     "metadata": {},
     "output_type": "execute_result"
    }
   ],
   "source": [
    "list(data.columns)"
   ]
  },
  {
   "cell_type": "code",
   "execution_count": 39,
   "id": "582e99bd-06e6-45a0-841e-6ca823267ad1",
   "metadata": {},
   "outputs": [
    {
     "data": {
      "text/plain": [
       "DEPTH_MD         0\n",
       "FORMATION    36066\n",
       "RHOB          6402\n",
       "GR               0\n",
       "NPHI         10482\n",
       "dtype: int64"
      ]
     },
     "execution_count": 39,
     "metadata": {},
     "output_type": "execute_result"
    }
   ],
   "source": [
    "data.isna().sum()"
   ]
  },
  {
   "cell_type": "code",
   "execution_count": 40,
   "id": "27817afb-22d6-49db-847c-c0bb26ca51ad",
   "metadata": {},
   "outputs": [
    {
     "data": {
      "text/plain": [
       "<AxesSubplot:>"
      ]
     },
     "execution_count": 40,
     "metadata": {},
     "output_type": "execute_result"
    },
    {
     "data": {
      "image/png": "[encoded data removed]",
      "text/plain": [
       "<Figure size 2500x1000 with 2 Axes>"
      ]
     },
     "metadata": {},
     "output_type": "display_data"
    }
   ],
   "source": [
    "missingno.matrix(data)"
   ]
  },
  {
   "cell_type": "code",
   "execution_count": 41,
   "id": "4a04042b-abc8-45ba-b8a0-68da222cb051",
   "metadata": {},
   "outputs": [],
   "source": [
    "data['FORMATION'] = np.where(data['FORMATION'].isna(), 0, data['FORMATION'])"
   ]
  },
  {
   "cell_type": "code",
   "execution_count": 42,
   "id": "bf40ce8d-9155-445c-96c6-6da00247f7d2",
   "metadata": {},
   "outputs": [
    {
     "data": {
      "text/plain": [
       "array([0, 'Heather Fm.', 'Hugin Fm.', 'Ekofisk Fm.'], dtype=object)"
      ]
     },
     "execution_count": 42,
     "metadata": {},
     "output_type": "execute_result"
    }
   ],
   "source": [
    "data['FORMATION'].unique()"
   ]
  },
  {
   "cell_type": "code",
   "execution_count": 43,
   "id": "fc8fb6d3-63ea-4e34-a01d-85681a47ec57",
   "metadata": {},
   "outputs": [
    {
     "data": {
      "text/html": [
       "<div>\n",
       "<style scoped>\n",
       "    .dataframe tbody tr th:only-of-type {\n",
       "        vertical-align: middle;\n",
       "    }\n",
       "\n",
       "    .dataframe tbody tr th {\n",
       "        vertical-align: top;\n",
       "    }\n",
       "\n",
       "    .dataframe thead th {\n",
       "        text-align: right;\n",
       "    }\n",
       "</style>\n",
       "<table border=\"1\" class=\"dataframe\">\n",
       "  <thead>\n",
       "    <tr style=\"text-align: right;\">\n",
       "      <th></th>\n",
       "      <th>DEPTH_MD</th>\n",
       "      <th>FORMATION</th>\n",
       "      <th>RHOB</th>\n",
       "      <th>GR</th>\n",
       "      <th>NPHI</th>\n",
       "    </tr>\n",
       "  </thead>\n",
       "  <tbody>\n",
       "    <tr>\n",
       "      <th>0</th>\n",
       "      <td>494.528</td>\n",
       "      <td>0</td>\n",
       "      <td>1.884186</td>\n",
       "      <td>80.200851</td>\n",
       "      <td>NaN</td>\n",
       "    </tr>\n",
       "    <tr>\n",
       "      <th>1</th>\n",
       "      <td>494.680</td>\n",
       "      <td>0</td>\n",
       "      <td>1.889794</td>\n",
       "      <td>79.262886</td>\n",
       "      <td>NaN</td>\n",
       "    </tr>\n",
       "    <tr>\n",
       "      <th>2</th>\n",
       "      <td>494.832</td>\n",
       "      <td>0</td>\n",
       "      <td>1.896523</td>\n",
       "      <td>74.821999</td>\n",
       "      <td>NaN</td>\n",
       "    </tr>\n",
       "    <tr>\n",
       "      <th>3</th>\n",
       "      <td>494.984</td>\n",
       "      <td>0</td>\n",
       "      <td>1.891913</td>\n",
       "      <td>72.878922</td>\n",
       "      <td>NaN</td>\n",
       "    </tr>\n",
       "    <tr>\n",
       "      <th>4</th>\n",
       "      <td>495.136</td>\n",
       "      <td>0</td>\n",
       "      <td>1.880034</td>\n",
       "      <td>71.729141</td>\n",
       "      <td>NaN</td>\n",
       "    </tr>\n",
       "  </tbody>\n",
       "</table>\n",
       "</div>"
      ],
      "text/plain": [
       "   DEPTH_MD FORMATION      RHOB         GR  NPHI\n",
       "0   494.528         0  1.884186  80.200851   NaN\n",
       "1   494.680         0  1.889794  79.262886   NaN\n",
       "2   494.832         0  1.896523  74.821999   NaN\n",
       "3   494.984         0  1.891913  72.878922   NaN\n",
       "4   495.136         0  1.880034  71.729141   NaN"
      ]
     },
     "execution_count": 43,
     "metadata": {},
     "output_type": "execute_result"
    }
   ],
   "source": [
    "data.head()"
   ]
  },
  {
   "cell_type": "code",
   "execution_count": 44,
   "id": "3fd77a60-c53d-470a-9d75-367f62d2f41f",
   "metadata": {},
   "outputs": [],
   "source": [
    "def histograms_plot(dataframe, features, rows, cols):\n",
    "    fig=plt.figure(figsize=(20,20))\n",
    "    for i, feature in enumerate(features):\n",
    "        ax=fig.add_subplot(rows,cols,i+1)\n",
    "        dataframe[feature].hist(bins=20,ax=ax)\n",
    "        ax.set_title(feature+\" Distribution\")\n",
    "\n",
    "    fig.tight_layout()  \n",
    "    plt.show()"
   ]
  },
  {
   "cell_type": "code",
   "execution_count": 45,
   "id": "8a5ba647-b2da-4fab-ad43-3c03a3f10d1e",
   "metadata": {},
   "outputs": [
    {
     "data": {
      "image/png": "[encoded data removed]",
      "text/plain": [
       "<Figure size 2000x2000 with 3 Axes>"
      ]
     },
     "metadata": {},
     "output_type": "display_data"
    }
   ],
   "source": [
    "histograms_plot(data,data[['RHOB','GR','NPHI']].columns,3,3)"
   ]
  },
  {
   "cell_type": "code",
   "execution_count": 46,
   "id": "e71bd437-aed0-4d63-8d04-3e0d2bf33b8e",
   "metadata": {},
   "outputs": [
    {
     "data": {
      "text/plain": [
       "DEPTH_MD         0\n",
       "FORMATION        0\n",
       "RHOB          6402\n",
       "GR               0\n",
       "NPHI         10482\n",
       "dtype: int64"
      ]
     },
     "execution_count": 46,
     "metadata": {},
     "output_type": "execute_result"
    }
   ],
   "source": [
    "data.isna().sum()"
   ]
  },
  {
   "cell_type": "code",
   "execution_count": 47,
   "id": "e9873206-0d04-4e26-8814-61e7b39db3b8",
   "metadata": {},
   "outputs": [
    {
     "data": {
      "text/html": [
       "<div>\n",
       "<style scoped>\n",
       "    .dataframe tbody tr th:only-of-type {\n",
       "        vertical-align: middle;\n",
       "    }\n",
       "\n",
       "    .dataframe tbody tr th {\n",
       "        vertical-align: top;\n",
       "    }\n",
       "\n",
       "    .dataframe thead th {\n",
       "        text-align: right;\n",
       "    }\n",
       "</style>\n",
       "<table border=\"1\" class=\"dataframe\">\n",
       "  <thead>\n",
       "    <tr style=\"text-align: right;\">\n",
       "      <th></th>\n",
       "      <th>DEPTH_MD</th>\n",
       "      <th>RHOB</th>\n",
       "      <th>GR</th>\n",
       "      <th>NPHI</th>\n",
       "    </tr>\n",
       "  </thead>\n",
       "  <tbody>\n",
       "    <tr>\n",
       "      <th>count</th>\n",
       "      <td>38382.000000</td>\n",
       "      <td>31980.000000</td>\n",
       "      <td>38382.000000</td>\n",
       "      <td>27900.000000</td>\n",
       "    </tr>\n",
       "    <tr>\n",
       "      <th>mean</th>\n",
       "      <td>1904.792463</td>\n",
       "      <td>2.194891</td>\n",
       "      <td>70.038539</td>\n",
       "      <td>0.353819</td>\n",
       "    </tr>\n",
       "    <tr>\n",
       "      <th>std</th>\n",
       "      <td>812.779323</td>\n",
       "      <td>0.280848</td>\n",
       "      <td>34.961406</td>\n",
       "      <td>0.142869</td>\n",
       "    </tr>\n",
       "    <tr>\n",
       "      <th>min</th>\n",
       "      <td>439.415790</td>\n",
       "      <td>1.404576</td>\n",
       "      <td>5.782680</td>\n",
       "      <td>-0.005300</td>\n",
       "    </tr>\n",
       "    <tr>\n",
       "      <th>25%</th>\n",
       "      <td>1196.175947</td>\n",
       "      <td>2.015528</td>\n",
       "      <td>44.481265</td>\n",
       "      <td>0.228855</td>\n",
       "    </tr>\n",
       "    <tr>\n",
       "      <th>50%</th>\n",
       "      <td>1925.411895</td>\n",
       "      <td>2.163349</td>\n",
       "      <td>71.158260</td>\n",
       "      <td>0.379428</td>\n",
       "    </tr>\n",
       "    <tr>\n",
       "      <th>75%</th>\n",
       "      <td>2654.951842</td>\n",
       "      <td>2.455034</td>\n",
       "      <td>92.222841</td>\n",
       "      <td>0.475087</td>\n",
       "    </tr>\n",
       "    <tr>\n",
       "      <th>max</th>\n",
       "      <td>3272.024000</td>\n",
       "      <td>2.952480</td>\n",
       "      <td>499.022583</td>\n",
       "      <td>0.800262</td>\n",
       "    </tr>\n",
       "  </tbody>\n",
       "</table>\n",
       "</div>"
      ],
      "text/plain": [
       "           DEPTH_MD          RHOB            GR          NPHI\n",
       "count  38382.000000  31980.000000  38382.000000  27900.000000\n",
       "mean    1904.792463      2.194891     70.038539      0.353819\n",
       "std      812.779323      0.280848     34.961406      0.142869\n",
       "min      439.415790      1.404576      5.782680     -0.005300\n",
       "25%     1196.175947      2.015528     44.481265      0.228855\n",
       "50%     1925.411895      2.163349     71.158260      0.379428\n",
       "75%     2654.951842      2.455034     92.222841      0.475087\n",
       "max     3272.024000      2.952480    499.022583      0.800262"
      ]
     },
     "execution_count": 47,
     "metadata": {},
     "output_type": "execute_result"
    }
   ],
   "source": [
    "data.describe()"
   ]
  },
  {
   "cell_type": "code",
   "execution_count": 48,
   "id": "18a82594-7be2-4775-a966-cc078fb89256",
   "metadata": {},
   "outputs": [],
   "source": [
    "data['RHOB'] = np.where(data['RHOB'].isna(), 2.194891, data['RHOB'])"
   ]
  },
  {
   "cell_type": "code",
   "execution_count": 49,
   "id": "5d473816-b64a-41f7-a5dc-afacfd44be58",
   "metadata": {},
   "outputs": [
    {
     "data": {
      "text/plain": [
       "DEPTH_MD         0\n",
       "FORMATION        0\n",
       "RHOB             0\n",
       "GR               0\n",
       "NPHI         10482\n",
       "dtype: int64"
      ]
     },
     "execution_count": 49,
     "metadata": {},
     "output_type": "execute_result"
    }
   ],
   "source": [
    "data.isna().sum()"
   ]
  },
  {
   "cell_type": "code",
   "execution_count": 56,
   "id": "9414e6fa-a06e-4f20-9287-9641359758a2",
   "metadata": {},
   "outputs": [],
   "source": [
    "data = data[data['NPHI'].notna()]"
   ]
  },
  {
   "cell_type": "code",
   "execution_count": 57,
   "id": "7ad9dd38-94ec-437d-b519-b680c7cc124f",
   "metadata": {},
   "outputs": [
    {
     "data": {
      "image/png": "[encoded data removed]",
      "text/plain": [
       "<Figure size 2000x2000 with 3 Axes>"
      ]
     },
     "metadata": {},
     "output_type": "display_data"
    }
   ],
   "source": [
    "histograms_plot(data,data[['RHOB','GR','NPHI']].columns,3,3)"
   ]
  },
  {
   "cell_type": "code",
   "execution_count": 58,
   "id": "fba3d4d2-118e-4934-aaca-8a1dbf7ce5e6",
   "metadata": {},
   "outputs": [
    {
     "data": {
      "text/plain": [
       "27900"
      ]
     },
     "execution_count": 58,
     "metadata": {},
     "output_type": "execute_result"
    }
   ],
   "source": [
    "len(data)"
   ]
  },
  {
   "cell_type": "code",
   "execution_count": 59,
   "id": "6ae0b8e5-cc91-4a03-91ad-2216f1905380",
   "metadata": {},
   "outputs": [
    {
     "data": {
      "text/plain": [
       "<AxesSubplot:>"
      ]
     },
     "execution_count": 59,
     "metadata": {},
     "output_type": "execute_result"
    },
    {
     "data": {
      "image/png": "[encoded data removed]",
      "text/plain": [
       "<Figure size 2500x1000 with 2 Axes>"
      ]
     },
     "metadata": {},
     "output_type": "display_data"
    }
   ],
   "source": [
    "missingno.matrix(b_data)"
   ]
  },
  {
   "cell_type": "code",
   "execution_count": 60,
   "id": "017cd3d0-6b62-46ff-aa14-06a5916b1245",
   "metadata": {},
   "outputs": [
    {
     "data": {
      "text/html": [
       "<div>\n",
       "<style scoped>\n",
       "    .dataframe tbody tr th:only-of-type {\n",
       "        vertical-align: middle;\n",
       "    }\n",
       "\n",
       "    .dataframe tbody tr th {\n",
       "        vertical-align: top;\n",
       "    }\n",
       "\n",
       "    .dataframe thead th {\n",
       "        text-align: right;\n",
       "    }\n",
       "</style>\n",
       "<table border=\"1\" class=\"dataframe\">\n",
       "  <thead>\n",
       "    <tr style=\"text-align: right;\">\n",
       "      <th></th>\n",
       "      <th>DEPTH_MD</th>\n",
       "      <th>FORMATION</th>\n",
       "      <th>RHOB</th>\n",
       "      <th>GR</th>\n",
       "      <th>NPHI</th>\n",
       "    </tr>\n",
       "  </thead>\n",
       "  <tbody>\n",
       "    <tr>\n",
       "      <th>4238</th>\n",
       "      <td>1138.704</td>\n",
       "      <td>0</td>\n",
       "      <td>1.774626</td>\n",
       "      <td>55.892757</td>\n",
       "      <td>0.765867</td>\n",
       "    </tr>\n",
       "    <tr>\n",
       "      <th>4239</th>\n",
       "      <td>1138.856</td>\n",
       "      <td>0</td>\n",
       "      <td>1.800986</td>\n",
       "      <td>60.929138</td>\n",
       "      <td>0.800262</td>\n",
       "    </tr>\n",
       "    <tr>\n",
       "      <th>4240</th>\n",
       "      <td>1139.008</td>\n",
       "      <td>0</td>\n",
       "      <td>1.817696</td>\n",
       "      <td>62.117264</td>\n",
       "      <td>0.765957</td>\n",
       "    </tr>\n",
       "    <tr>\n",
       "      <th>4241</th>\n",
       "      <td>1139.160</td>\n",
       "      <td>0</td>\n",
       "      <td>1.829333</td>\n",
       "      <td>61.010860</td>\n",
       "      <td>0.702521</td>\n",
       "    </tr>\n",
       "    <tr>\n",
       "      <th>4242</th>\n",
       "      <td>1139.312</td>\n",
       "      <td>0</td>\n",
       "      <td>1.813854</td>\n",
       "      <td>58.501236</td>\n",
       "      <td>0.639708</td>\n",
       "    </tr>\n",
       "  </tbody>\n",
       "</table>\n",
       "</div>"
      ],
      "text/plain": [
       "      DEPTH_MD FORMATION      RHOB         GR      NPHI\n",
       "4238  1138.704         0  1.774626  55.892757  0.765867\n",
       "4239  1138.856         0  1.800986  60.929138  0.800262\n",
       "4240  1139.008         0  1.817696  62.117264  0.765957\n",
       "4241  1139.160         0  1.829333  61.010860  0.702521\n",
       "4242  1139.312         0  1.813854  58.501236  0.639708"
      ]
     },
     "execution_count": 60,
     "metadata": {},
     "output_type": "execute_result"
    }
   ],
   "source": [
    "data.head()"
   ]
  },
  {
   "cell_type": "code",
   "execution_count": 67,
   "id": "d6d8a15f-6012-4235-b778-5aeab4dcd312",
   "metadata": {},
   "outputs": [
    {
     "data": {
      "text/plain": [
       "array([0, 'Heather Fm.', 'Hugin Fm.', 'Ekofisk Fm.'], dtype=object)"
      ]
     },
     "execution_count": 67,
     "metadata": {},
     "output_type": "execute_result"
    }
   ],
   "source": [
    "#y = data.drop(columns=['FORMATION'])\n",
    "data['FORMATION'].unique()"
   ]
  },
  {
   "cell_type": "code",
   "execution_count": 68,
   "id": "83edd35a-9028-44b9-bc9f-a5b4c23348e6",
   "metadata": {},
   "outputs": [],
   "source": [
    "formation_numbers = {0: 0,\n",
    "                 'Heather Fm.': 1,\n",
    "                 'Hugin Fm.': 2,\n",
    "                 'Ekofisk Fm.': 3}"
   ]
  },
  {
   "cell_type": "code",
   "execution_count": 69,
   "id": "bec8e0b5-7867-490e-998b-d8ca76ad8911",
   "metadata": {},
   "outputs": [
    {
     "data": {
      "text/html": [
       "<div>\n",
       "<style scoped>\n",
       "    .dataframe tbody tr th:only-of-type {\n",
       "        vertical-align: middle;\n",
       "    }\n",
       "\n",
       "    .dataframe tbody tr th {\n",
       "        vertical-align: top;\n",
       "    }\n",
       "\n",
       "    .dataframe thead th {\n",
       "        text-align: right;\n",
       "    }\n",
       "</style>\n",
       "<table border=\"1\" class=\"dataframe\">\n",
       "  <thead>\n",
       "    <tr style=\"text-align: right;\">\n",
       "      <th></th>\n",
       "      <th>DEPTH_MD</th>\n",
       "      <th>FORMATION</th>\n",
       "      <th>RHOB</th>\n",
       "      <th>GR</th>\n",
       "      <th>NPHI</th>\n",
       "    </tr>\n",
       "  </thead>\n",
       "  <tbody>\n",
       "    <tr>\n",
       "      <th>4238</th>\n",
       "      <td>1138.704</td>\n",
       "      <td>0</td>\n",
       "      <td>1.774626</td>\n",
       "      <td>55.892757</td>\n",
       "      <td>0.765867</td>\n",
       "    </tr>\n",
       "    <tr>\n",
       "      <th>4239</th>\n",
       "      <td>1138.856</td>\n",
       "      <td>0</td>\n",
       "      <td>1.800986</td>\n",
       "      <td>60.929138</td>\n",
       "      <td>0.800262</td>\n",
       "    </tr>\n",
       "    <tr>\n",
       "      <th>4240</th>\n",
       "      <td>1139.008</td>\n",
       "      <td>0</td>\n",
       "      <td>1.817696</td>\n",
       "      <td>62.117264</td>\n",
       "      <td>0.765957</td>\n",
       "    </tr>\n",
       "    <tr>\n",
       "      <th>4241</th>\n",
       "      <td>1139.160</td>\n",
       "      <td>0</td>\n",
       "      <td>1.829333</td>\n",
       "      <td>61.010860</td>\n",
       "      <td>0.702521</td>\n",
       "    </tr>\n",
       "    <tr>\n",
       "      <th>4242</th>\n",
       "      <td>1139.312</td>\n",
       "      <td>0</td>\n",
       "      <td>1.813854</td>\n",
       "      <td>58.501236</td>\n",
       "      <td>0.639708</td>\n",
       "    </tr>\n",
       "  </tbody>\n",
       "</table>\n",
       "</div>"
      ],
      "text/plain": [
       "      DEPTH_MD  FORMATION      RHOB         GR      NPHI\n",
       "4238  1138.704          0  1.774626  55.892757  0.765867\n",
       "4239  1138.856          0  1.800986  60.929138  0.800262\n",
       "4240  1139.008          0  1.817696  62.117264  0.765957\n",
       "4241  1139.160          0  1.829333  61.010860  0.702521\n",
       "4242  1139.312          0  1.813854  58.501236  0.639708"
      ]
     },
     "execution_count": 69,
     "metadata": {},
     "output_type": "execute_result"
    }
   ],
   "source": [
    "data['FORMATION'] = data['FORMATION'].map(formation_numbers)\n",
    "data.head()"
   ]
  },
  {
   "cell_type": "code",
   "execution_count": 70,
   "id": "27545605-08ee-4691-8bbb-cf12b8aaacb9",
   "metadata": {},
   "outputs": [
    {
     "data": {
      "text/plain": [
       "array([0, 1, 2, 3], dtype=int64)"
      ]
     },
     "execution_count": 70,
     "metadata": {},
     "output_type": "execute_result"
    }
   ],
   "source": [
    "data['FORMATION'].unique()"
   ]
  },
  {
   "cell_type": "code",
   "execution_count": 71,
   "id": "6d8aa031-6353-4055-afe4-69fad3c5a1c5",
   "metadata": {},
   "outputs": [],
   "source": [
    "data1 = data"
   ]
  },
  {
   "cell_type": "markdown",
   "id": "5c26b9d5-a2c2-40ba-9e32-e166ecb49969",
   "metadata": {},
   "source": [
    "## Split Data"
   ]
  },
  {
   "cell_type": "code",
   "execution_count": 73,
   "id": "4f3d9f31-a003-4877-aa75-aad7bdb9b108",
   "metadata": {},
   "outputs": [],
   "source": [
    "X = data1.drop(columns=['FORMATION'])"
   ]
  },
  {
   "cell_type": "code",
   "execution_count": 74,
   "id": "511c8aa2-3a4f-4b11-8ac0-0130199d6266",
   "metadata": {},
   "outputs": [
    {
     "data": {
      "text/html": [
       "<div>\n",
       "<style scoped>\n",
       "    .dataframe tbody tr th:only-of-type {\n",
       "        vertical-align: middle;\n",
       "    }\n",
       "\n",
       "    .dataframe tbody tr th {\n",
       "        vertical-align: top;\n",
       "    }\n",
       "\n",
       "    .dataframe thead th {\n",
       "        text-align: right;\n",
       "    }\n",
       "</style>\n",
       "<table border=\"1\" class=\"dataframe\">\n",
       "  <thead>\n",
       "    <tr style=\"text-align: right;\">\n",
       "      <th></th>\n",
       "      <th>DEPTH_MD</th>\n",
       "      <th>RHOB</th>\n",
       "      <th>GR</th>\n",
       "      <th>NPHI</th>\n",
       "    </tr>\n",
       "  </thead>\n",
       "  <tbody>\n",
       "    <tr>\n",
       "      <th>4238</th>\n",
       "      <td>1138.704000</td>\n",
       "      <td>1.774626</td>\n",
       "      <td>55.892757</td>\n",
       "      <td>0.765867</td>\n",
       "    </tr>\n",
       "    <tr>\n",
       "      <th>4239</th>\n",
       "      <td>1138.856000</td>\n",
       "      <td>1.800986</td>\n",
       "      <td>60.929138</td>\n",
       "      <td>0.800262</td>\n",
       "    </tr>\n",
       "    <tr>\n",
       "      <th>4240</th>\n",
       "      <td>1139.008000</td>\n",
       "      <td>1.817696</td>\n",
       "      <td>62.117264</td>\n",
       "      <td>0.765957</td>\n",
       "    </tr>\n",
       "    <tr>\n",
       "      <th>4241</th>\n",
       "      <td>1139.160000</td>\n",
       "      <td>1.829333</td>\n",
       "      <td>61.010860</td>\n",
       "      <td>0.702521</td>\n",
       "    </tr>\n",
       "    <tr>\n",
       "      <th>4242</th>\n",
       "      <td>1139.312000</td>\n",
       "      <td>1.813854</td>\n",
       "      <td>58.501236</td>\n",
       "      <td>0.639708</td>\n",
       "    </tr>\n",
       "    <tr>\n",
       "      <th>...</th>\n",
       "      <td>...</td>\n",
       "      <td>...</td>\n",
       "      <td>...</td>\n",
       "      <td>...</td>\n",
       "    </tr>\n",
       "    <tr>\n",
       "      <th>38377</th>\n",
       "      <td>3136.929202</td>\n",
       "      <td>2.330812</td>\n",
       "      <td>47.910629</td>\n",
       "      <td>0.268916</td>\n",
       "    </tr>\n",
       "    <tr>\n",
       "      <th>38378</th>\n",
       "      <td>3137.081202</td>\n",
       "      <td>2.333778</td>\n",
       "      <td>47.535816</td>\n",
       "      <td>0.268218</td>\n",
       "    </tr>\n",
       "    <tr>\n",
       "      <th>38379</th>\n",
       "      <td>3137.233202</td>\n",
       "      <td>2.312559</td>\n",
       "      <td>46.608562</td>\n",
       "      <td>0.264366</td>\n",
       "    </tr>\n",
       "    <tr>\n",
       "      <th>38380</th>\n",
       "      <td>3137.385202</td>\n",
       "      <td>2.274340</td>\n",
       "      <td>48.267384</td>\n",
       "      <td>0.266614</td>\n",
       "    </tr>\n",
       "    <tr>\n",
       "      <th>38381</th>\n",
       "      <td>3137.537202</td>\n",
       "      <td>2.245325</td>\n",
       "      <td>50.126423</td>\n",
       "      <td>0.268749</td>\n",
       "    </tr>\n",
       "  </tbody>\n",
       "</table>\n",
       "<p>27900 rows × 4 columns</p>\n",
       "</div>"
      ],
      "text/plain": [
       "          DEPTH_MD      RHOB         GR      NPHI\n",
       "4238   1138.704000  1.774626  55.892757  0.765867\n",
       "4239   1138.856000  1.800986  60.929138  0.800262\n",
       "4240   1139.008000  1.817696  62.117264  0.765957\n",
       "4241   1139.160000  1.829333  61.010860  0.702521\n",
       "4242   1139.312000  1.813854  58.501236  0.639708\n",
       "...            ...       ...        ...       ...\n",
       "38377  3136.929202  2.330812  47.910629  0.268916\n",
       "38378  3137.081202  2.333778  47.535816  0.268218\n",
       "38379  3137.233202  2.312559  46.608562  0.264366\n",
       "38380  3137.385202  2.274340  48.267384  0.266614\n",
       "38381  3137.537202  2.245325  50.126423  0.268749\n",
       "\n",
       "[27900 rows x 4 columns]"
      ]
     },
     "execution_count": 74,
     "metadata": {},
     "output_type": "execute_result"
    }
   ],
   "source": [
    "X"
   ]
  },
  {
   "cell_type": "code",
   "execution_count": 77,
   "id": "88f07931-e2f5-4681-9bdf-9dac939c147b",
   "metadata": {},
   "outputs": [],
   "source": [
    "y = data1['FORMATION']"
   ]
  },
  {
   "cell_type": "code",
   "execution_count": 78,
   "id": "d6918a55-c4a7-4663-a02e-5cea161b41af",
   "metadata": {},
   "outputs": [
    {
     "name": "stdout",
     "output_type": "stream",
     "text": [
      "(27900, 4) (27900,)\n"
     ]
    }
   ],
   "source": [
    "print(X.shape, y.shape)"
   ]
  },
  {
   "cell_type": "code",
   "execution_count": 82,
   "id": "abf39a0d-c2a4-4d92-a7d3-adbefe413a8a",
   "metadata": {},
   "outputs": [
    {
     "name": "stdout",
     "output_type": "stream",
     "text": [
      "(22320, 4) (5580, 4) (22320,) (5580,)\n"
     ]
    }
   ],
   "source": [
    "X_train, X_test, y_train, y_test = train_test_split(X, y, test_size=0.20, random_state=1)\n",
    "print(X_train.shape, X_test.shape, y_train.shape, y_test.shape)"
   ]
  },
  {
   "cell_type": "markdown",
   "id": "513d2cf2-beb2-42e5-b19c-c0a542215caf",
   "metadata": {},
   "source": [
    "## First Model"
   ]
  },
  {
   "cell_type": "code",
   "execution_count": 85,
   "id": "62c393aa-877b-4c2a-b00c-9a9fc89243cd",
   "metadata": {},
   "outputs": [
    {
     "data": {
      "text/plain": [
       "RandomForestRegressor(random_state=1)"
      ]
     },
     "execution_count": 85,
     "metadata": {},
     "output_type": "execute_result"
    }
   ],
   "source": [
    "model = RandomForestRegressor(random_state=1)\n",
    "model.fit(X_train, y_train)"
   ]
  },
  {
   "cell_type": "code",
   "execution_count": 86,
   "id": "6cc1d7c3-c702-45bd-97f1-682499326882",
   "metadata": {},
   "outputs": [
    {
     "name": "stdout",
     "output_type": "stream",
     "text": [
      "MAE: 0.014\n"
     ]
    }
   ],
   "source": [
    "ypredict = model.predict(X_test)\n",
    "# evaluate predictions\n",
    "mae = mean_absolute_error(y_test, predict)\n",
    "print('MAE: %.3f' % mae)"
   ]
  },
  {
   "cell_type": "markdown",
   "id": "7d269834-608f-41b5-ac05-78a30b80762c",
   "metadata": {},
   "source": [
    "## Second Model"
   ]
  },
  {
   "cell_type": "code",
   "execution_count": 162,
   "id": "d040f041-9604-4d05-9b98-c67028b0d0e3",
   "metadata": {},
   "outputs": [],
   "source": [
    "import pandas as pd\n",
    "import numpy as np\n",
    "import matplotlib.pyplot as plt\n",
    "from sklearn.preprocessing import LabelEncoder\n",
    "from keras.wrappers.scikit_learn import KerasClassifier\n",
    "from keras.utils import np_utils\n",
    "\n",
    "# for modeling\n",
    "from keras.models import Sequential\n",
    "from keras.layers import Dense, Dropout\n",
    "from keras.callbacks import EarlyStopping\n",
    "from numpy import loadtxt\n",
    "from tensorflow.keras.models import Sequential\n",
    "from tensorflow.keras.layers import Dense"
   ]
  },
  {
   "cell_type": "code",
   "execution_count": 163,
   "id": "5ffe97c4-651d-41df-95e4-3d787c2526a7",
   "metadata": {},
   "outputs": [],
   "source": [
    "#make a copy \n",
    "dt = data1"
   ]
  },
  {
   "cell_type": "code",
   "execution_count": 148,
   "id": "a003efdc-6ea3-464f-a5a6-bd225aff7ca5",
   "metadata": {},
   "outputs": [
    {
     "name": "stdout",
     "output_type": "stream",
     "text": [
      "Model: \"sequential_15\"\n",
      "_________________________________________________________________\n",
      " Layer (type)                Output Shape              Param #   \n",
      "=================================================================\n",
      " dense_39 (Dense)            (None, 16)                336       \n",
      "                                                                 \n",
      " dense_40 (Dense)            (None, 16)                272       \n",
      "                                                                 \n",
      " dense_41 (Dense)            (None, 1)                 17        \n",
      "                                                                 \n",
      "=================================================================\n",
      "Total params: 625\n",
      "Trainable params: 625\n",
      "Non-trainable params: 0\n",
      "_________________________________________________________________\n",
      "Epoch 1/20\n",
      "18/18 [==============================] - 1s 20ms/step - loss: 0.6688 - accuracy: 0.3222 - val_loss: 0.6351 - val_accuracy: 0.5000\n",
      "Epoch 2/20\n",
      "18/18 [==============================] - 0s 6ms/step - loss: 0.3788 - accuracy: 0.3444 - val_loss: 0.5639 - val_accuracy: 0.4000\n",
      "Epoch 3/20\n",
      "18/18 [==============================] - 0s 6ms/step - loss: 0.1250 - accuracy: 0.4000 - val_loss: 0.5092 - val_accuracy: 0.4000\n",
      "Epoch 4/20\n",
      "18/18 [==============================] - 0s 6ms/step - loss: -0.0910 - accuracy: 0.4333 - val_loss: 0.4665 - val_accuracy: 0.4000\n",
      "Epoch 5/20\n",
      "18/18 [==============================] - 0s 5ms/step - loss: -0.3090 - accuracy: 0.3778 - val_loss: 0.4362 - val_accuracy: 0.4000\n",
      "Epoch 6/20\n",
      "18/18 [==============================] - 0s 5ms/step - loss: -0.5378 - accuracy: 0.3889 - val_loss: 0.3886 - val_accuracy: 0.4000\n",
      "Epoch 7/20\n",
      "18/18 [==============================] - 0s 5ms/step - loss: -0.8112 - accuracy: 0.3778 - val_loss: 0.3403 - val_accuracy: 0.4000\n",
      "Epoch 8/20\n",
      "18/18 [==============================] - 0s 6ms/step - loss: -1.1439 - accuracy: 0.3778 - val_loss: 0.2811 - val_accuracy: 0.4000\n",
      "Epoch 9/20\n",
      "18/18 [==============================] - 0s 6ms/step - loss: -1.5027 - accuracy: 0.3889 - val_loss: 0.2218 - val_accuracy: 0.3000\n",
      "Epoch 10/20\n",
      "18/18 [==============================] - 0s 6ms/step - loss: -1.9683 - accuracy: 0.3889 - val_loss: 0.1299 - val_accuracy: 0.4000\n",
      "Epoch 11/20\n",
      "18/18 [==============================] - 0s 6ms/step - loss: -2.4952 - accuracy: 0.4000 - val_loss: 0.0407 - val_accuracy: 0.4000\n",
      "Epoch 12/20\n",
      "18/18 [==============================] - 0s 5ms/step - loss: -3.1263 - accuracy: 0.4000 - val_loss: -0.1378 - val_accuracy: 0.4000\n",
      "Epoch 13/20\n",
      "18/18 [==============================] - 0s 6ms/step - loss: -3.8886 - accuracy: 0.3889 - val_loss: -0.3423 - val_accuracy: 0.4000\n",
      "Epoch 14/20\n",
      "18/18 [==============================] - 0s 5ms/step - loss: -4.7753 - accuracy: 0.4000 - val_loss: -0.5410 - val_accuracy: 0.4000\n",
      "Epoch 15/20\n",
      "18/18 [==============================] - 0s 5ms/step - loss: -5.7987 - accuracy: 0.4000 - val_loss: -0.7648 - val_accuracy: 0.5000\n",
      "Epoch 16/20\n",
      "18/18 [==============================] - 0s 4ms/step - loss: -7.0404 - accuracy: 0.4111 - val_loss: -1.0268 - val_accuracy: 0.5000\n",
      "Epoch 17/20\n",
      "18/18 [==============================] - 0s 5ms/step - loss: -8.2673 - accuracy: 0.4111 - val_loss: -1.3137 - val_accuracy: 0.4000\n",
      "Epoch 18/20\n",
      "18/18 [==============================] - 0s 5ms/step - loss: -9.7104 - accuracy: 0.4111 - val_loss: -1.6576 - val_accuracy: 0.4000\n",
      "Epoch 19/20\n",
      "18/18 [==============================] - 0s 6ms/step - loss: -11.4852 - accuracy: 0.4333 - val_loss: -2.0227 - val_accuracy: 0.5000\n",
      "Epoch 20/20\n",
      "18/18 [==============================] - 0s 7ms/step - loss: -13.2919 - accuracy: 0.4333 - val_loss: -2.3842 - val_accuracy: 0.5000\n"
     ]
    }
   ],
   "source": [
    "model = Sequential()\n",
    "model.add(Dense(16, input_shape=(X.shape[1],), activation='relu')) # Add an input shape! (features,)\n",
    "model.add(Dense(16, activation='relu'))\n",
    "model.add(Dense(1, activation='sigmoid'))\n",
    "model.summary() \n",
    "\n",
    "model.compile(optimizer='Adam', \n",
    "              loss='binary_crossentropy',\n",
    "              metrics=['accuracy'])\n",
    "\n",
    "# early stopping callback\n",
    "# This callback will stop the training when there is no improvement in  \n",
    "# the validation loss for 10 consecutive epochs.  \n",
    "es = EarlyStopping(monitor='val_accuracy', \n",
    "                                   mode='max', # don't minimize the accuracy!\n",
    "                                   patience=50,\n",
    "                                   restore_best_weights=True)\n",
    "\n",
    "# now we just update our model fit call\n",
    "history = model.fit(X,\n",
    "                    y,\n",
    "                    callbacks=[es],\n",
    "                    epochs=20, # you can set this to a big number!\n",
    "                    batch_size=5,\n",
    "                    validation_split=0.1,\n",
    "                    shuffle=True,\n",
    "                    verbose=1)"
   ]
  },
  {
   "cell_type": "code",
   "execution_count": 175,
   "id": "df5894d7-3a88-4f63-880f-6e6b493bb843",
   "metadata": {},
   "outputs": [
    {
     "data": {
      "image/png": "[encoded data removed]",
      "text/plain": [
       "<Figure size 640x480 with 1 Axes>"
      ]
     },
     "metadata": {},
     "output_type": "display_data"
    }
   ],
   "source": [
    "history_dict = history.history\n",
    "# Learning curve(Loss)\n",
    "# let's see the training and validation loss by epoch\n",
    "\n",
    "# loss\n",
    "loss_values = history_dict['loss'] # you can change this\n",
    "val_loss_values = history_dict['val_loss'] # you can also change this\n",
    "\n",
    "# range of X (no. of epochs)\n",
    "epochs = range(1, len(loss_values) + 1) \n",
    "\n",
    "# plot\n",
    "plt.plot(epochs, loss_values, 'bo', label='Training loss')\n",
    "plt.plot(epochs, val_loss_values, 'orange', label='Validation loss')\n",
    "plt.title('Training and validation loss')\n",
    "plt.xlabel('Epochs')\n",
    "plt.ylabel('Loss')\n",
    "plt.legend()\n",
    "plt.show()"
   ]
  },
  {
   "cell_type": "code",
   "execution_count": 190,
   "id": "6a2e9647-a077-4fdf-a396-dc8152297bd1",
   "metadata": {},
   "outputs": [
    {
     "data": {
      "image/png": "[encoded data removed]",
      "text/plain": [
       "<Figure size 640x480 with 1 Axes>"
      ]
     },
     "metadata": {},
     "output_type": "display_data"
    },
    {
     "data": {
      "text/plain": [
       "0.5"
      ]
     },
     "execution_count": 190,
     "metadata": {},
     "output_type": "execute_result"
    }
   ],
   "source": [
    "# Learning curve(accuracy)\n",
    "# let's see the training and validation accuracy by epoch\n",
    "\n",
    "# accuracy\n",
    "acc = history.history['accuracy']\n",
    "val_acc = history.history['val_accuracy']\n",
    "\n",
    "# range of X (no. of epochs)\n",
    "epochs = range(1, len(acc) + 1)\n",
    "\n",
    "# plot\n",
    "# \"bo\" is for \"blue dot\"\n",
    "plt.plot(epochs, acc, linestyle = 'dashed', label='Training accuracy')\n",
    "# orange is for \"orange\"\n",
    "plt.plot(epochs, val_acc, 'bo', label='Validation accuracy')\n",
    "plt.title('Accuracy')\n",
    "plt.xlabel('Epochs')\n",
    "plt.ylabel('Accuracy')\n",
    "plt.legend()\n",
    "plt.show()\n",
    "\n",
    "# this is the max value - should correspond to\n",
    "# the HIGHEST train accuracy\n",
    "np.max(val_acc)"
   ]
  },
  {
   "cell_type": "code",
   "execution_count": 160,
   "id": "e804383a-3c2f-4a3a-a908-f0eb7750f8c8",
   "metadata": {},
   "outputs": [
    {
     "name": "stdout",
     "output_type": "stream",
     "text": [
      "4/4 [==============================] - 0s 3ms/step\n",
      "4/4 [==============================] - 0s 3ms/step\n",
      "4/4 [==============================] - 0s 3ms/step\n",
      "[[15 19  0]\n",
      " [ 4 29  0]\n",
      " [ 1 32  0]]\n",
      "              precision    recall  f1-score   support\n",
      "\n",
      "           0       0.75      0.44      0.56        34\n",
      "           1       0.36      0.88      0.51        33\n",
      "           2       0.00      0.00      0.00        33\n",
      "\n",
      "    accuracy                           0.44       100\n",
      "   macro avg       0.37      0.44      0.36       100\n",
      "weighted avg       0.37      0.44      0.36       100\n",
      "\n"
     ]
    }
   ],
   "source": [
    "from sklearn.metrics import confusion_matrix\n",
    "from sklearn.metrics import classification_report\n",
    "\n",
    "# see how these are numbers between 0 and 1? \n",
    "model.predict(X) # prob of successes (survival)\n",
    "np.round(model.predict(X),1) # 1 and 0 (survival or not)\n",
    "y # 1 and 0 (survival or not)\n",
    "\n",
    "# so we need to round to a whole number (0 or 1),\n",
    "# or the confusion matrix won't work!\n",
    "preds = np.round(model.predict(X),0)\n",
    "\n",
    "# confusion matrix\n",
    "print(confusion_matrix(y, preds)) # order matters! (actual, predicted)\n",
    "\n",
    "## array([[490,  59],   ([[TN, FP],\n",
    "##       [105, 235]])     [Fn, TP]])\n",
    "\n",
    "print(classification_report(y, preds))\n",
    "##               precision    recall  f1-score   support\n",
    "## \n",
    "##            0       0.82      0.89      0.86       549\n",
    "##            1       0.80      0.69      0.74       340\n",
    "## \n",
    "##     accuracy                           0.82       889\n",
    "##    macro avg       0.81      0.79      0.80       889\n",
    "## weighted avg       0.81      0.82      0.81       889"
   ]
  },
  {
   "cell_type": "markdown",
   "id": "a537a000-4ac0-4459-a718-dc38304e4155",
   "metadata": {},
   "source": [
    "## Third Attempt"
   ]
  },
  {
   "cell_type": "code",
   "execution_count": 164,
   "id": "eaaca42a-2348-43d5-899a-2ae11f42946d",
   "metadata": {},
   "outputs": [],
   "source": [
    "from numpy import loadtxt\n",
    "from tensorflow.keras.models import Sequential\n",
    "from tensorflow.keras.layers import Dense"
   ]
  },
  {
   "cell_type": "code",
   "execution_count": 167,
   "id": "90cf1fae-c7f0-427a-b717-393779a326b4",
   "metadata": {},
   "outputs": [],
   "source": [
    "model = Sequential()\n",
    "model.add(Dense(12, input_shape=(8,), activation='relu'))\n",
    "model.add(Dense(8, activation='relu'))\n",
    "model.add(Dense(1, activation='sigmoid'))"
   ]
  },
  {
   "cell_type": "code",
   "execution_count": 168,
   "id": "99e5672b-caa1-409b-897f-cdd4c108ebaa",
   "metadata": {},
   "outputs": [],
   "source": [
    "model.compile(loss='binary_crossentropy', optimizer='adam', metrics=['accuracy'])"
   ]
  },
  {
   "cell_type": "markdown",
   "id": "dc268fba-f514-4f94-93aa-1c3a57c35c0b",
   "metadata": {},
   "source": [
    "## Forth Attempt"
   ]
  },
  {
   "cell_type": "code",
   "execution_count": 106,
   "id": "13700808-071a-408e-9616-e812ff1b4d96",
   "metadata": {},
   "outputs": [
    {
     "data": {
      "text/plain": [
       "SVC()"
      ]
     },
     "execution_count": 106,
     "metadata": {},
     "output_type": "execute_result"
    }
   ],
   "source": [
    "from sklearn import svm\n",
    "\n",
    "clf = svm.SVC()\n",
    "clf.fit(X_train,y_train)"
   ]
  },
  {
   "cell_type": "code",
   "execution_count": 107,
   "id": "ffaec47c-de39-423d-bf0c-6263e2fc8fa7",
   "metadata": {},
   "outputs": [],
   "source": [
    "predicted_labels = clf.predict(X_test)"
   ]
  },
  {
   "cell_type": "code",
   "execution_count": 108,
   "id": "87abad6d-9e97-4664-89a8-ec8405628b01",
   "metadata": {},
   "outputs": [],
   "source": [
    "def display_cm(cm, labels, hide_zeros=False,\n",
    "                             display_metrics=False):\n",
    "\n",
    "    precision = np.diagonal(cm)/cm.sum(axis=0).astype('float')\n",
    "    recall = np.diagonal(cm)/cm.sum(axis=1).astype('float')\n",
    "    F1 = 2 * (precision * recall) / (precision + recall)\n",
    "    \n",
    "    precision[np.isnan(precision)] = 0\n",
    "    recall[np.isnan(recall)] = 0\n",
    "    F1[np.isnan(F1)] = 0\n",
    "    \n",
    "    total_precision = np.sum(precision * cm.sum(axis=1)) / cm.sum(axis=(0,1))\n",
    "    total_recall = np.sum(recall * cm.sum(axis=1)) / cm.sum(axis=(0,1))\n",
    "    total_F1 = np.sum(F1 * cm.sum(axis=1)) / cm.sum(axis=(0,1))\n",
    "    #print total_precision\n",
    "    \n",
    "    columnwidth = max([len(x) for x in labels]+[5]) # 5 is value length\n",
    "    empty_cell = \" \" * columnwidth\n",
    "\n",
    "    print(\"    \" + \" Pred\", end=' ')\n",
    "    for label in labels: \n",
    "        print(\"%{0}s\".format(columnwidth) % label, end=' ')\n",
    "    print(\"%{0}s\".format(columnwidth) % 'Total')\n",
    "    print(\"    \" + \" True\")\n",
    "\n",
    "    for i, label1 in enumerate(labels):\n",
    "        print(\"    %{0}s\".format(columnwidth) % label1, end=' ')\n",
    "        for j in range(len(labels)): \n",
    "            cell = \"%{0}d\".format(columnwidth) % cm[i, j]\n",
    "            if hide_zeros:\n",
    "                cell = cell if float(cm[i, j]) != 0 else empty_cell\n",
    "            print(cell, end=' ')\n",
    "        print(\"%{0}d\".format(columnwidth) % sum(cm[i,:]))\n",
    "        \n",
    "    if display_metrics:\n",
    "        print()\n",
    "        print(\"Precision\", end=' ')\n",
    "        for j in range(len(labels)):\n",
    "            cell = \"%{0}.2f\".format(columnwidth) % precision[j]\n",
    "            print(cell, end=' ')\n",
    "        print(\"%{0}.2f\".format(columnwidth) % total_precision)\n",
    "        print(\"   Recall\", end=' ')\n",
    "        for j in range(len(labels)):\n",
    "            cell = \"%{0}.2f\".format(columnwidth) % recall[j]\n",
    "            print(cell, end=' ')\n",
    "        print(\"%{0}.2f\".format(columnwidth) % total_recall)\n",
    "        print(\"       F1\", end=' ')\n",
    "        for j in range(len(labels)):\n",
    "            cell = \"%{0}.2f\".format(columnwidth) % F1[j]\n",
    "            print(cell, end=' ')\n",
    "        print(\"%{0}.2f\".format(columnwidth) % total_F1)\n",
    "    \n",
    "                  \n",
    "def display_adj_cm(\n",
    "        cm, labels, adjacent_facies, hide_zeros=False, \n",
    "        display_metrics=False):\n",
    "    \"\"\"This function displays a confusion matrix that counts \n",
    "       adjacent facies as correct.\n",
    "    \"\"\"\n",
    "    adj_cm = np.copy(cm)\n",
    "    \n",
    "    for i in np.arange(0,cm.shape[0]):\n",
    "        for j in adjacent_facies[i]:\n",
    "            adj_cm[i][i] += adj_cm[i][j]\n",
    "            adj_cm[i][j] = 0.0\n",
    "        \n",
    "    display_cm(adj_cm, labels, hide_zeros, \n",
    "                             display_metrics)"
   ]
  },
  {
   "cell_type": "code",
   "execution_count": 112,
   "id": "bb064bee-78a1-4041-b514-a0505593d7d4",
   "metadata": {},
   "outputs": [],
   "source": [
    "formation_labels = ['0', '1', '2', '3']"
   ]
  },
  {
   "cell_type": "code",
   "execution_count": 113,
   "id": "24cd18c4-827a-4b64-bd91-2b46eb2ae4c0",
   "metadata": {},
   "outputs": [
    {
     "name": "stdout",
     "output_type": "stream",
     "text": [
      "     Pred     0     1     2     3 Total\n",
      "     True\n",
      "        0  5106                    5106\n",
      "        1   198                     198\n",
      "        2   179                     179\n",
      "        3    97                      97\n"
     ]
    }
   ],
   "source": [
    "conf = confusion_matrix(y_test, predicted_labels)\n",
    "display_cm(conf, formation_labels, hide_zeros=True)"
   ]
  },
  {
   "cell_type": "code",
   "execution_count": 114,
   "id": "c7aed750-dd71-4f23-af99-5735ea558826",
   "metadata": {},
   "outputs": [],
   "source": [
    "filename = 'model.pkl'\n",
    "pickle.dump(model, open(filename, 'wb'))"
   ]
  },
  {
   "cell_type": "code",
   "execution_count": 125,
   "id": "52080af5-93bc-4a78-aca8-cae5ece49837",
   "metadata": {},
   "outputs": [
    {
     "data": {
      "text/plain": [
       "array([0, 0, 0, ..., 0, 0, 0], dtype=int64)"
      ]
     },
     "execution_count": 125,
     "metadata": {},
     "output_type": "execute_result"
    }
   ],
   "source": [
    "predicted_labels"
   ]
  },
  {
   "cell_type": "code",
   "execution_count": null,
   "id": "53417969-bf6f-4125-8088-b43bd482e014",
   "metadata": {},
   "outputs": [],
   "source": [
    "pd.DataFrame(data=decoded_predictions, columns=['formation']).to_csv('predictions.csv', index=False)"
   ]
  },
  {
   "cell_type": "code",
   "execution_count": 118,
   "id": "59398da8-0b0a-4c30-8d0b-b1c1e8bf8bb8",
   "metadata": {},
   "outputs": [
    {
     "data": {
      "text/plain": [
       "['DEPTH_MD', 'FORMATION', 'RHOB', 'GR', 'NPHI']"
      ]
     },
     "execution_count": 118,
     "metadata": {},
     "output_type": "execute_result"
    }
   ],
   "source": [
    "list(data1.columns)"
   ]
  },
  {
   "cell_type": "code",
   "execution_count": 123,
   "id": "f7e19de2-5d55-4370-b795-beec46b4aaf5",
   "metadata": {},
   "outputs": [],
   "source": [
    "from fastai.tabular import core\n",
    "import xgboost as xgb"
   ]
  },
  {
   "cell_type": "code",
   "execution_count": 126,
   "id": "ac470901-6c53-4b75-8ff0-b479dbc65f11",
   "metadata": {},
   "outputs": [],
   "source": [
    "def formation_decode(formation_array):\n",
    "    inverse_formation_map = { value : key for key, value in formation_numbers.items() }\n",
    "    return np.vectorize(inverse_formation_map.get)(formation_array)"
   ]
  },
  {
   "cell_type": "code",
   "execution_count": 127,
   "id": "7d8a0762-8480-48a3-a219-ca36808b744b",
   "metadata": {},
   "outputs": [],
   "source": [
    "decoded_result = formation_decode(predicted_labels)"
   ]
  },
  {
   "cell_type": "code",
   "execution_count": 128,
   "id": "d071a928-9b10-491a-9b21-9c39192e6708",
   "metadata": {},
   "outputs": [],
   "source": [
    "pd.DataFrame(data=decoded_result).to_csv('predictions.csv', index=False)"
   ]
  },
  {
   "cell_type": "code",
   "execution_count": null,
   "id": "2779899a-a690-4b41-badd-6056fa4c3633",
   "metadata": {},
   "outputs": [],
   "source": []
  }
 ],
 "metadata": {
  "kernelspec": {
   "display_name": "Python 3 (ipykernel)",
   "language": "python",
   "name": "python3"
  },
  "language_info": {
   "codemirror_mode": {
    "name": "ipython",
    "version": 3
   },
   "file_extension": ".py",
   "mimetype": "text/x-python",
   "name": "python",
   "nbconvert_exporter": "python",
   "pygments_lexer": "ipython3",
   "version": "3.9.13"
  }
 },
 "nbformat": 4,
 "nbformat_minor": 5
}
